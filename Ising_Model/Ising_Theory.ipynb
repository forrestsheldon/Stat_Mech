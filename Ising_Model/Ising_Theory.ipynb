{
 "metadata": {
  "name": ""
 },
 "nbformat": 3,
 "nbformat_minor": 0,
 "worksheets": [
  {
   "cells": [
    {
     "cell_type": "heading",
     "level": 1,
     "metadata": {},
     "source": [
      "Theory of the Ising Model"
     ]
    },
    {
     "cell_type": "markdown",
     "metadata": {},
     "source": [
      "This notebook will contain a description of the theory I have come across in my readings on the Ising Model and its progeny."
     ]
    },
    {
     "cell_type": "heading",
     "level": 2,
     "metadata": {},
     "source": [
      "Definition"
     ]
    },
    {
     "cell_type": "markdown",
     "metadata": {},
     "source": []
    },
    {
     "cell_type": "heading",
     "level": 3,
     "metadata": {},
     "source": [
      "Glauber Dynamics"
     ]
    },
    {
     "cell_type": "markdown",
     "metadata": {},
     "source": [
      "From *Time Dependent Statistics of the Ising Model* Roy J. Glauber, Journal of Mathematical Physics (1963)\n",
      "\n",
      "Traditionally the Ising model is equilibrium interacting model with no time scale.  We only assume that the time scales of our observations are much larger than the timescales associated with the dynamics of the system.  As one of the simplest examples of an interacting system, it should also provide an opportunity to formulate an analagous non-equilibrium system.  Glauber's paper addresses this idea. It could/should therefore be thought of as a different model that is *analogous* to the Ising model.\n",
      "\n",
      "The basic sequence of ideas is to regard each spin as a time dependent variable $\\sigma_i(t)$ in contact with a heat bath causing it to transition between $\\sigma = \\pm 1$.  By assigning transition probabilities "
     ]
    },
    {
     "cell_type": "markdown",
     "metadata": {},
     "source": []
    }
   ],
   "metadata": {}
  }
 ]
}
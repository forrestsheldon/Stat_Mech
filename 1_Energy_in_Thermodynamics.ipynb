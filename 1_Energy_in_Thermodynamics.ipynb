{
 "metadata": {
  "name": ""
 },
 "nbformat": 3,
 "nbformat_minor": 0,
 "worksheets": [
  {
   "cells": [
    {
     "cell_type": "heading",
     "level": 1,
     "metadata": {},
     "source": [
      "Energy in Thermodynamics"
     ]
    },
    {
     "cell_type": "code",
     "collapsed": false,
     "input": [
      "%pylab inline --no-import-all"
     ],
     "language": "python",
     "metadata": {},
     "outputs": [
      {
       "output_type": "stream",
       "stream": "stdout",
       "text": [
        "Populating the interactive namespace from numpy and matplotlib\n"
       ]
      }
     ],
     "prompt_number": 8
    },
    {
     "cell_type": "code",
     "collapsed": false,
     "input": [
      "import numpy as np"
     ],
     "language": "python",
     "metadata": {},
     "outputs": [],
     "prompt_number": 9
    },
    {
     "cell_type": "heading",
     "level": 2,
     "metadata": {},
     "source": [
      "Temperature"
     ]
    },
    {
     "cell_type": "heading",
     "level": 3,
     "metadata": {},
     "source": [
      "Physical Definition"
     ]
    },
    {
     "cell_type": "markdown",
     "metadata": {},
     "source": [
      "So temperature is some weird quantity relating to energy (as stirring water eventually causes the water to warm) and coming up with a precise definition of it is one of the first tasks we will set about attacking.  We begin with an operational definition that defines temperature in terms of its physical properties.\n",
      "\n",
      "*Temperature is the thing that becomes the same when two systems are put in thermal contact and allowed to come to equilibrium.*\n",
      "\n",
      "So this means that when two systems are placed in thermal contact, some quantity becomes the same that relates to the exchange of energy.  We now undertake understanding what that is."
     ]
    },
    {
     "cell_type": "heading",
     "level": 3,
     "metadata": {},
     "source": [
      "Orders of Magnitude"
     ]
    },
    {
     "cell_type": "markdown",
     "metadata": {},
     "source": [
      "Some fun orders of magnitude:\n",
      "\n",
      "* 100     pK  Lowest Temperature ever produced\n",
      "* 1.7     mK  Lowest Temperature that can currently be sustained in lab\n",
      "* 2.7     K   CMB\n",
      "* 4.7     K   Superconductivity point of Mercury\n",
      "* 77      K   Boiling point of $N_2$\n",
      "* 183.75  K   Coldest recorded air temperature on Earth (-89.4 $^\\circ$C)\n",
      "* 273.15  K   Melting point of water\n",
      "* 273.16  K   Triple point of water (defined)\n",
      "* ~293    K   Room temperature\n",
      "* 373.15  K   Boiling point of water\n",
      "* 500     K   Paper fire\n",
      "* 600     K   Melting point of lead\n",
      "* 1170    K   Wood Fire\n",
      "* 1500    K   Basalt Lava Flows\n",
      "* 1670    K   Blue Candle Flame\n",
      "* 1811    K   Melting point of iron\n",
      "* 5780    K   Surface Temperature of Sun\n",
      "* 15      MK  Core Temperature of Sun\n",
      "* 5-530   MK  Tokamak Fusion Reactor Plasma"
     ]
    },
    {
     "cell_type": "heading",
     "level": 2,
     "metadata": {},
     "source": [
      "Ideal Gas"
     ]
    },
    {
     "cell_type": "markdown",
     "metadata": {},
     "source": [
      "The Ideal Gas equation of state uses Pascals, $m^3$, and kelvin for units.  The equation \n",
      "is $$PV = nRT = NkT$$ with $R$ the gas constant $R = 8.31\\frac{J}{mol\\cdot K}$. Boltzmann's constant\n",
      "is $k = \\frac{R}{N_A} = 1.381 \\times 10^{-23} J/K$.  The volume of one mol of gas at room temperature and 1 atm \n",
      "is thus,"
     ]
    },
    {
     "cell_type": "code",
     "collapsed": false,
     "input": [
      "R = 8.31\n",
      "atm = 1.01*10**5\n",
      "(1*R*293)/atm"
     ],
     "language": "python",
     "metadata": {},
     "outputs": []
    },
    {
     "cell_type": "markdown",
     "metadata": {},
     "source": [
      "or about 25 liters which is about the size of a normal backpack.\n",
      "\n",
      " The mass of a mole of dry air which is $78\\%\\: N_2$,  $21\\%\\: O_2$ and $1\\%\\: Ar$"
     ]
    },
    {
     "cell_type": "code",
     "collapsed": false,
     "input": [
      ".78*28+.21*32+.01*40"
     ],
     "language": "python",
     "metadata": {},
     "outputs": []
    },
    {
     "cell_type": "markdown",
     "metadata": {},
     "source": [
      "so about 30 grams. This also puts air at about"
     ]
    },
    {
     "cell_type": "code",
     "collapsed": false,
     "input": [
      "print \"%f grams per liter or kg/m^3\" % (28.96 / 24.1)"
     ],
     "language": "python",
     "metadata": {},
     "outputs": []
    },
    {
     "cell_type": "heading",
     "level": 5,
     "metadata": {},
     "source": [
      "Exponential Atmosphere"
     ]
    },
    {
     "cell_type": "markdown",
     "metadata": {},
     "source": [
      "Imagine the atmosphere as horizontal slabs of air of height $dz$.  For the slab to be at rest,\n",
      "the pressure below must balance the weight of the slab and the pressure from above.  Use this to find\n",
      "$\\frac{dP}{dz}$ in terms of the density of air.  Find the density in terms of the pressure, temperature\n",
      "and the average mass of an air molecule $m$ (from 1. above).  Solve the resulting DE to get that the\n",
      "pressure follows,\n",
      "$$P(z) = P(0)e^{-mgz/kT}.$$\n",
      "So the pressure should decrease exponentially with a length scale of $\\frac{kT}{mg}$ which comes to"
     ]
    },
    {
     "cell_type": "code",
     "collapsed": false,
     "input": [
      "N_A = 6.022*10**23\n",
      "k_B = 1.381*10**(-23)\n",
      "T_room = 293.\n",
      "k_B*T_room/(.03/(N_A)*9.81)"
     ],
     "language": "python",
     "metadata": {},
     "outputs": []
    },
    {
     "cell_type": "heading",
     "level": 4,
     "metadata": {},
     "source": [
      "Neat Visuals"
     ]
    },
    {
     "cell_type": "markdown",
     "metadata": {},
     "source": [
      "So the point of these notebooks is that we can have interactive demonstrations.  Let's try one for an ideal gas:"
     ]
    },
    {
     "cell_type": "code",
     "collapsed": false,
     "input": [
      "import numpy as np\n",
      "import scipy\n",
      "from pylab import *\n",
      "from mpl_toolkits.mplot3d.axes3d import Axes3D\n",
      "\n",
      "def pressure_ideal(N, T, V):\n",
      "    \"\"\"\n",
      "    Returns the pressure of an ideal gas given pressure_ideal(N, T, V)\n",
      "    in Kelvin, cubic meters, and Newtons/m^2\n",
      "    \"\"\"\n",
      "    return N*k_B*T / V\n",
      "\n",
      "t = linspace(0, 400, 100)\n",
      "v = linspace(0.005, 0.1, 100)\n",
      "T,V = meshgrid(t,v)\n",
      "P = pressure_ideal(N_A, T, V)\n",
      "\n",
      "fig = figure(figsize=(12,8))\n",
      "ax = fig.add_subplot(1, 1, 1, projection = \"3d\")\n",
      "\n",
      "ax.plot_surface(T, V, P, rstride=7, cstride=7, alpha=0.05)\n",
      "cset = ax.contour(T, V, P, 5, zdir='z', offset=10, cmap=cm.coolwarm)\n",
      "cset = ax.contour(T, V, P, 5, zdir='x', offset=10, cmap=cm.coolwarm)\n",
      "cset = ax.contour(T, V, P, 5, zdir='y', offset=10, cmap=cm.coolwarm)\n",
      "\n",
      "ax.set_zlim3d(0,4e5)\n",
      "ax.set_title(\"The Ideal Gas Law ($1mol$)\")\n",
      "ax.set_xlabel('Temperature $(K)$')\n",
      "ax.set_ylabel('Volume $(m^3)$')\n",
      "ax.set_zlabel('Pressure $(N/m^2)$')\n",
      "ax.view_init(30, 30)"
     ],
     "language": "python",
     "metadata": {},
     "outputs": []
    },
    {
     "cell_type": "markdown",
     "metadata": {},
     "source": [
      "Here we see Isobars along the bottom, isotherms along the back, and for some reason we don't see any isochors on the left.  "
     ]
    },
    {
     "cell_type": "heading",
     "level": 4,
     "metadata": {},
     "source": [
      "Microscopic Model"
     ]
    },
    {
     "cell_type": "markdown",
     "metadata": {},
     "source": [
      "A simple kinetic model of noninteracting particles yields,\n",
      "$$PV = N m\\overline{v_x^2}$$\n",
      "which suggests the average translational kinetic energy in each direction\n",
      "is $\\overline{\\frac{1}{2}mv_x^2} = \\frac{1}{2}kT$ and thus the total translational kinetic\n",
      "energy is $$\\overline{K} =U = \\frac{3}{2}kT.$$\n",
      "To get an idea of the energy scales we are talking about here, at room temperature\n",
      "$$kT = (1.38\\times 10^{-23}J/K)(300K) = 4.14\\times 10^{-21}J\\approx \\frac{1}{40}eV$$\n",
      "We can also get the approximate speed of a molecule in the gas,\n",
      "$$v_{rms} \\equiv \\sqrt{\\overline{v^2}} = \\sqrt{\\frac{3kT}{m}}$$\n",
      "(Note that this is slightly larger than $\\bar{v}$.) For a nitrogen molecule at room temperature,\n",
      "this yields,"
     ]
    },
    {
     "cell_type": "code",
     "collapsed": false,
     "input": [
      "np.sqrt(3*k_B*293/(0.028/N_A))"
     ],
     "language": "python",
     "metadata": {},
     "outputs": []
    },
    {
     "cell_type": "markdown",
     "metadata": {},
     "source": [
      "It's no accident that this is near to the speed of sound, but that's a non-equilibrium class.  It is also worth noting (and super cool) that while the\n",
      "derivation relies on the particles not interacting, if the gas becomes dense the ideal gas law\n",
      "breaks down in such a way to conserve the expression for the total energy and so $U = \\frac{3}{2}kT$ is true\n",
      "for dense gases, liquids and sometimes solids!"
     ]
    },
    {
     "cell_type": "heading",
     "level": 3,
     "metadata": {},
     "source": [
      "Equipartition of Energy"
     ]
    },
    {
     "cell_type": "markdown",
     "metadata": {},
     "source": [
      "At a temperature T, the average energy of any quadratic degree of freedom is $\\frac{1}{2}kT$, so\n",
      "$U_{thermal} = N\\cdot f \\cdot \\frac{1}{2}kT$ for $N$ molecules with $f$ degrees of freedom.  (Note that this is the thermal energy and does not account for energy stored as mass/bonds and so this cannot be used as the energy when describing processes in which bonds break.) This\n",
      "is true at high temperatures.  At room temperatures in a gas, vibrational degrees of freedom (which\n",
      "count as 2, one for kinetic, and one for potential) do not contribute and so $f = 3$\n",
      "\n",
      "This means in one mole of ideal gas we have,"
     ]
    },
    {
     "cell_type": "code",
     "collapsed": false,
     "input": [
      "3./2*N_A*k_B*T_room"
     ],
     "language": "python",
     "metadata": {},
     "outputs": []
    },
    {
     "cell_type": "markdown",
     "metadata": {},
     "source": [
      "So we have about 3.6 kJ in one mol of ideal gas at room temperature. If we use the ideal gas law, $U_{thermal} = \\frac{3}{2}N k_b T = \\frac{3}{2}(\\frac{PV}{k_B T})k_B T = \\frac{3}{2}PV$, so in a liter at room temperature,"
     ]
    },
    {
     "cell_type": "code",
     "collapsed": false,
     "input": [
      "3./2*atm*0.001"
     ],
     "language": "python",
     "metadata": {},
     "outputs": []
    },
    {
     "cell_type": "markdown",
     "metadata": {},
     "source": [
      "The small thermal energy is really just because lead is so heavy and thus contains very few atoms compared to the gram of air we looked at earlier."
     ]
    },
    {
     "cell_type": "heading",
     "level": 2,
     "metadata": {},
     "source": [
      "Heat and Work"
     ]
    },
    {
     "cell_type": "markdown",
     "metadata": {},
     "source": [
      "The first rule of thermodynamics is an expression of energy conservation and gives heat a definite form in relation to energy, which gets us on our way to defining temperature in terms of more exact arguements. We classify the manner in which the thermal energy can change into two categories, heat and work. So\n",
      "$$\\Delta U = Q + W$$\n",
      "\n",
      "Heat is any spontaneous flow of energy from one object to another caused by a difference in temperature.\n",
      "\n",
      "Work is any other transfer of energy.  Because these refer only to exchanges of energy, there is no heat or work function that describes the amount of heat or work in a system.  We can refer only to the total energy in a system and the amount of heating or work done on it.\n",
      "\n",
      "Heat was originally measured in calories which is the amount of heat required to raise the temperature of a gram of water by 1$^\\circ$ Celcius. Joule showed that 1 calorie is approximately 4.2J and today it is defined at 4.186J."
     ]
    },
    {
     "cell_type": "heading",
     "level": 3,
     "metadata": {},
     "source": [
      "Compression Work"
     ]
    },
    {
     "cell_type": "markdown",
     "metadata": {},
     "source": [
      "When we compress a system, we can attempt to use our classical definition of work in terms of force.  However, in order to use the pressure to characterize the force, we must assume that the change is $quasistatic$, meaning that the change in the volume is \n",
      "sufficiently slow that the gas has time to continually equilibrate, which means that the pressure is well-defined throughout the gas.  As at room temperature the gas molecules are moving faster than the speed of sound, we would need to compress at near that speed to compress faster than the gas could respond.\n",
      "\n",
      "If we have all of this, we get $W = -P\\Delta V$."
     ]
    },
    {
     "cell_type": "heading",
     "level": 4,
     "metadata": {},
     "source": [
      "Ideal Gas"
     ]
    },
    {
     "cell_type": "markdown",
     "metadata": {},
     "source": [
      "In the ideal gas, we can consider two types of compression work:  Slow compression, where the gas exchanges heat with its surroundings and keeps the temperature constant ie $isothermal$ compression, and fast compression, which is so fast that no heat is exchanged with the surroundings ie $adiabatic$ compression."
     ]
    },
    {
     "cell_type": "heading",
     "level": 4,
     "metadata": {},
     "source": [
      "Isothermal Compression"
     ]
    },
    {
     "cell_type": "markdown",
     "metadata": {},
     "source": [
      "The inverse volume dependence yields, as we would expect,\n",
      "$$W = N k_B T \\ln{\\frac{V_i}{V_f}}$$\n",
      "So each factor that we compress a gas by increases the energy by a constant amount proportional to $N k_B T$.  So the same work is required to half the volume of a gas, no matter what the starting volume.  As the thermal energy doesn't change, we have $Q = -W$. To compress a mole of ideal gas to half it's volume, we find"
     ]
    },
    {
     "cell_type": "code",
     "collapsed": false,
     "input": [
      "N_A*k_B*T_room*np.log(2)"
     ],
     "language": "python",
     "metadata": {},
     "outputs": []
    },
    {
     "cell_type": "code",
     "collapsed": false,
     "input": [
      "fig2 = figure()\n",
      "ax2 = fig2.add_axes([0.1, 0.1, 0.8, 0.8])\n",
      "\n",
      "V = linspace(0.001, 0.05)\n",
      "ax2.plot(V, N_A*k_B*293*np.log(0.001/V),'r')\n",
      "ax2.plot(V, N_A*k_B*100*np.log(0.001/V),'g')\n",
      "ax2.plot(V, N_A*k_B*400*np.log(0.001/V),'b')\n",
      "ax2.set_xlabel('Volume $m^3$')\n",
      "ax2.set_ylabel('Work $(J)$')\n",
      "ax2.set_title('Work Done on a Liter of Gas During its Expansion')"
     ],
     "language": "python",
     "metadata": {},
     "outputs": []
    },
    {
     "cell_type": "heading",
     "level": 4,
     "metadata": {},
     "source": [
      "Adiabatic Compression"
     ]
    },
    {
     "cell_type": "markdown",
     "metadata": {},
     "source": [
      "In adiabatic compression, $Q=0$ so $\\frac{f}{2}N k dT = -P dV$ and utilizing the ideal gas law,\n",
      "$$\\frac{f}{2}\\frac{dT}{T} = -\\frac{dV}{V}$$\n",
      "Integrating this and exponentiating we obtain\n",
      "$$V_f T^{f/2}_f = V_i T^{f/2}_i$$\n",
      "or\n",
      "$$V^\\gamma P = constant$$\n",
      "where $\\gamma$ is the adiabatic exponent, $\\gamma = (f+2)/f$"
     ]
    },
    {
     "cell_type": "code",
     "collapsed": false,
     "input": [
      "gamma_mono=(3.+2)/3"
     ],
     "language": "python",
     "metadata": {},
     "outputs": []
    },
    {
     "cell_type": "code",
     "collapsed": false,
     "input": [
      "t = linspace(0, 400, 100)\n",
      "v = linspace(0.005, 0.1, 100)\n",
      "T,V = meshgrid(t,v)\n",
      "P = pressure_ideal(N_A, T, V)\n",
      "\n",
      "V_proc = linspace(0.01,0.09,50)\n",
      "P_adiabat = N_A*k_B*350*0.01**(2./3)/V_proc**(gamma_mono)\n",
      "T_adiabat = 350*(0.01/V_proc)**(2./3)\n",
      "\n",
      "T_iso = [350 for i in range(50)]\n",
      "P_iso = N_A*k_B*350./V_proc\n",
      "T_contour = zeros(50)\n",
      "\n",
      "fig2 = figure(figsize=(12,8))\n",
      "ax2 = fig2.add_subplot(1, 1, 1, projection = \"3d\")\n",
      "\n",
      "ax2.plot_surface(T, V, P, rstride=7, cstride=7, alpha=0.05)\n",
      "ax2.plot(T_adiabat,V_proc,P_adiabat,'r',linewidth=2)\n",
      "ax2.plot(T_iso,V_proc,P_iso,'b',linewidth=2)\n",
      "ax2.plot(T_contour, V_proc, P_adiabat, 'r')\n",
      "ax2.plot(T_contour, V_proc, P_iso, 'b')\n",
      "\n",
      "\n",
      "ax2.set_zlim3d(0,4e5)\n",
      "ax2.set_title(\"The Ideal Gas Law ($1mol$)\")\n",
      "ax2.set_xlabel('Temperature $(K)$')\n",
      "ax2.set_ylabel('Volume $(m^3)$')\n",
      "ax2.set_zlabel('Pressure $(N/m^2)$')\n",
      "ax2.view_init(30, 30)"
     ],
     "language": "python",
     "metadata": {},
     "outputs": []
    },
    {
     "cell_type": "markdown",
     "metadata": {},
     "source": [
      "Here we see why an adiabat is steeper than an isotherm when looked at on a PV diagram.  Physically, this is because when we allow a gas to expand isothermally, it will be heated by it's surroundings and thus its pressure will be larger than a gas expanding adiabatically."
     ]
    },
    {
     "cell_type": "heading",
     "level": 5,
     "metadata": {},
     "source": [
      "Cool Problems"
     ]
    },
    {
     "cell_type": "markdown",
     "metadata": {},
     "source": [
      "1. Pumping a bike Tire - In pumping up a tire we compress a liter of air from 1 atm to 7 atm adiabatically (I suppose because the bike tire is a poor conductor).  Find the final volume, the work done, and the final temperature.\n",
      "\n",
      "The final volume is"
     ]
    },
    {
     "cell_type": "code",
     "collapsed": false,
     "input": [
      "V_init = 0.001\n",
      "gamma_air = (5.+2)/5\n",
      "V_final = (V_init)*(atm/7/atm)**(1/gamma_air)\n",
      "print \"The final volume is %1.2f liters\" % (V_final*1000)"
     ],
     "language": "python",
     "metadata": {},
     "outputs": []
    },
    {
     "cell_type": "markdown",
     "metadata": {},
     "source": [
      "In an adiabatic compression, $P = \\frac{constant}{V^\\gamma}$ so the work is \n",
      "$$W = -\\int_{V_i}^{V_f} \\frac{P_i V_i^\\gamma}{V^\\gamma} dV = \\left.\\gamma\\frac{P_i V_i^\\gamma}{V^{\\gamma-1}}\\right|^{V_f}_{V_i} = \\gamma P_i V_i^\\gamma\\left[ \\frac{1}{V_f^{\\gamma-1}} - \\frac{1}{V_i^{\\gamma-1}}\\right]$$"
     ]
    },
    {
     "cell_type": "code",
     "collapsed": false,
     "input": [
      "W = (gamma_air*atm*V_init**gamma_air)*(1/V_final**(gamma_air-1) - 1/V_init**(gamma_air-1))\n",
      "print \"The work done is %5.1f Joules\" % W"
     ],
     "language": "python",
     "metadata": {},
     "outputs": []
    },
    {
     "cell_type": "markdown",
     "metadata": {},
     "source": [
      "The final energy is $U_i +W$.  The initial energy is $\\frac{5}{2}Nk_B T = \\frac{5}{2}P_i V_i$."
     ]
    },
    {
     "cell_type": "code",
     "collapsed": false,
     "input": [
      "U_init=5./2*atm*V_init"
     ],
     "language": "python",
     "metadata": {},
     "outputs": []
    },
    {
     "cell_type": "markdown",
     "metadata": {},
     "source": [
      "So the final temperature is"
     ]
    },
    {
     "cell_type": "code",
     "collapsed": false,
     "input": [
      "U_final = U_init + W\n",
      "N = atm*V_init/k_B/T_room\n",
      "T_final = U_final/(5./2*N*k_B)\n",
      "print \"The final temperature is %.0f K or %.0f F\" % (T_final, (T_final-273)*5./9 +32)"
     ],
     "language": "python",
     "metadata": {},
     "outputs": []
    },
    {
     "cell_type": "markdown",
     "metadata": {},
     "source": [
      "2. Diesel Engine - In a diesel engine, air is compressed to 1/20th of its original volume.  Estimate its final temperature and explain why diesel engines do not need spark plugs.\n",
      "\n",
      "\n",
      "4. Bulk Modulus - The speed of sound waves can be shown to be\n",
      "$$c_s = \\sqrt{\\frac{B}{\\rho}}$$\n",
      "where $\\rho$ is the density and $B$ is the bulk modulus which measures the stiffness of the medium. It is defined as the ratio of the change in the pressure to the fractional change in the volume\n",
      "$$B = \\frac{\\Delta P}{-\\Delta V/V}.$$\n",
      "This definition is ambiguous as it has not been defined whether the compression occurs isothermally or adiabatically.\n",
      "\n",
      "Find $B(P)$ for adiabatic and isothermal compressions and argue that the adiabatic one is what we should use for sound waves. Find an expression for the velocity in terms of $T$ and $m$ and compare it to $v_{rms}$.\n",
      "5. More atmosphere\n",
      "\n",
      "###Heat Capacities\n",
      "\n",
      "The heat capacity is the amount of heat required to raise the temperature of a system per degree temperature change\n",
      "$$C = \\frac{Q}{\\Delta T} = \\frac{\\Delta U - W}{\\Delta T}$$\n",
      "This quantity is extensive and so we define an intensive quantity, the specific heat capacity\n",
      "$$c = \\frac{C}{m}.$$\n",
      "This definition is ambiguous as we have not specified how the head is added.  We define two heat capacities:\n",
      "The heat capacity at constant volume, such that $W=0$ and \n",
      "$$C_v = \\left(\\frac{\\partial U}{\\partial T}\\right)_V$$\n",
      "We can think of this as the energy capacity of a system as it is the energy required to raise the temperature of the system. For a gram of water, the energy capacity is $4.2J/^\\circ C$.\n",
      "\n",
      "Uncontained systems will expand as they are heated and thus excess heat will be required to supply the work done by the expansion. For compression work,\n",
      "$$C_P = \\left(\\frac{\\partial U}{\\partial T}\\right)_P + P\\left(\\frac{\\partial V}{\\partial T}\\right)_P$$\n",
      "For most solids and liquids we may neglect the second term (example?) but for gasses it is necessary.\n",
      "\n",
      "If an object holds thermal energy only in quadratic degrees of freedom, then\n",
      "$$C_V = \\frac{fNk_B}{2}$$\n",
      "For a monatomic ideal gas, the heat capacity per mol is thus $\\frac{3}{2}R = 12.5 J/K.$ For a solid at high temperatures, it is $3R = 25J/K$ which is the Dulong Petit rule.  At low temperatures, all of the degrees of freedom freeze out so that $C_v \\to 0$.\n",
      "\n",
      "For an ideal gas,\n",
      "$$C_P = C_V + Nk = C_V + nR$$\n",
      "\n",
      "####Latent Heat\n",
      "\n",
      "During a phase tranformation, we can add heat without changing the temperature and thus the heat capacity is infinite $C\\to\\infty$. We use the latent heat to quantify the heat necessary to completely melt or boil the substance.\n",
      "$$L = \\frac{Q}{m}$$\n",
      "For water, the latent heat of melting is 333 J/g or 80 cal/g and the latent heat of boiling is 2260 J/g or 540 cal/g. (Recall that it takes 100 cal/g to raise the temperature of water from $0 ^\\circ C$ to $100 ^\\circ C$.)\n",
      "####Enthalpy\n",
      "\n",
      "For constant pressure processes, keeping track of the compression work can be a pain, so we create a new quantity call the enthalpy\n",
      "$$H = U + PV$$\n",
      "This is the total energy required to create a system in a constant pressure environment. By examing differentials, we find that for constant pressure processes,\n",
      "$$\\Delta H = Q + W_{other}$$\n",
      "where $W_{other}$ is work other than compression-expansion work so if no work is done, the change in enthalpy is the heat added or removed from the system (hence the H).\n",
      "\n",
      "We can recognize\n",
      "$$C_P = \\left(\\frac{\\partial H }{\\partial T}\\right)_P$$\n",
      "so $C_P$ can be considered the \"enthalpy capacity.\"\n",
      "\n",
      "#####Enthalpy Examples\n",
      "1. Chemistry books quote $\\Delta H$ for a variety of processes.  For boiling a mol of water, $\\Delta H = 40,660J$.  So for one gram, $\\Delta H = (40,660 J)/18 g = 2260J$ which is the latent heat.  As it requires $N_A k_B T = RT = 3100J$ of work to expand in the atmosphere, only 37,560J go into the thermal energy of the gas.\n",
      "\n",
      "2. For $H_2 + \\frac{1}{2} O_2 \\to H_2 O$ the change in enthalpy per mol is -286kJ. This is referred to as the \"enthalpy of formation\". If we burn a mol of hydrogen, this is the energy we get out.\n",
      "\n",
      "###Rates/Transport Theory/Kinetics\n",
      "\n",
      "####Heat Conduction\n",
      "When two systems are in contact through a medium heat will be conducted according to the Fourier heat conduction law,\n",
      "$$\\frac{Q}{\\Delta t} = -k_t A \\frac{dT}{dx}.$$\n",
      "$k_t$ is the thermal conductivity and varies between materials by 4 orders of magnitude.  Some examples:\n",
      "\n",
      "* 0.026 air\n",
      "* 0.08 wood\n",
      "* 0.6 water\n",
      "* 0.8 glass\n",
      "* 80 iron\n",
      "* 400 copper\n",
      "\n",
      "####Conductivity of an Ideal Gas\n",
      "\n",
      "To get an approximation of the mean free path, we consider that a collision will occur when a particle comes within $2r$ of another.  When the volume swept out is equal to the average volume per molecule,\n",
      "$$\\pi(2r)^2l \\approx \\frac{V}{N}$$\n",
      "$$l\\approx \\frac{1}{4\\pi r^2}\\frac{V}{N}$$\n",
      "Given an approximate radius of 1.5 angstroms and treating air as an ideal gas at room temperature such that $\\frac{V}{N} = \\frac{kT}{P} = 4\\times 10^{-26} m^3$, we get an approximate mean free path of"
     ]
    },
    {
     "cell_type": "code",
     "collapsed": false,
     "input": [
      "l_air = 1/(4*np.pi*(1.5e-10)**2)*4e-26\n",
      "print \"The mean free path in air is approximately %.2g meters.\" % l_air\n",
      "print \"This yields a time between collisions of approximately %.2g seconds\" % (l_air / 500)"
     ],
     "language": "python",
     "metadata": {},
     "outputs": [
      {
       "output_type": "stream",
       "stream": "stdout",
       "text": [
        "The mean free path in air is approximately 1.4e-07 meters.\n",
        "This yields a time between collisions of approximately 2.8e-10 seconds\n"
       ]
      }
     ],
     "prompt_number": 13
    },
    {
     "cell_type": "markdown",
     "metadata": {},
     "source": [
      "To derive Fourier's heat conduction law, consider a small region of gas where the temperature increases in the x-direction and calculate the heat that flows across a barrier in the middle. Consider a region of length $l$ to either side of the barrier.  If $\\Delta t$ is the time between collisions, then in this time half of the particles in the left side will pass to the right and vice versa.  If $U_L$ is the energy in the region on the left and $U_R$ is the energy on the right, then the energy that flows across the barrier to the right is\n",
      "$$Q = \\frac{1}{2}(U_L - U_R) = -\\frac{1}{2}(U_R - U_L) = -\\frac{1}{2}C_V(T_R - T_L) = -\\frac{1}{2}C_Vl \\frac{dT}{dx}$$\n",
      "This gives us an estimate of the thermal conductivity $k_t = \\frac{1}{2}\\frac{C_V l}{A \\Delta t} = \\frac{1}{2}\\frac{C_V l^2}{A l \\Delta t} = \\frac{1}{2}\\frac{C_v}{V}l\\bar{v}$ The heat capacity of the gas per unit volume is $\\frac{C_V}{V} = \\frac{f}{2}\\frac{Nk}{V} = \\frac{f}{2}\\frac{P}{T}.$ This temperature dependence cancels with the linear dependence in $l$ such that the thermal conductivity depends on the temperature only through $\\bar{v}\\propto \\sqrt{T}$ (and possibly $f$ but only weakly in a narrow temperature range).\n",
      "\n",
      "For air,"
     ]
    },
    {
     "cell_type": "code",
     "collapsed": false,
     "input": [
      "k_tair = 1./2*5./2*atm/T_room*l_air * 500\n",
      "print \"The approximate thermal conductivity of air is %.3g\" % k_tair"
     ],
     "language": "python",
     "metadata": {},
     "outputs": []
    },
    {
     "cell_type": "markdown",
     "metadata": {},
     "source": [
      "Which is not bad for an approximation.\n",
      "\n",
      "####Viscosity\n",
      "\n",
      "Momentum can also spread through a fluid at the molecular level. Consider to parallel plates separated by a fluid.  If we move one of the plates, at low velocities the fluid will experience laminar flow.  Resistance to this flow is called viscosity. We can guess that the force is proportional to the common area of the plates and difference in their velocities and inversely proportional to the separation.  The constant of proportionality is called the coefficient of viscocity.\n",
      "$$\\frac{|F_x|}{A} = \\eta \\frac{du_x}{dz}$$\n",
      "The force per unit area is shear stress and acts parallel to a surface rather than perpendicular like a pressure.  $\\eta$ varies over many orders of magnitude and with temperature. Some examples:\n",
      "\n",
      "* 0.0018 $Pa\\cdot s$ water at $0^\\circ C$\n",
      "* 0.00028 $Pa\\cdot s$ water at $100^\\circ C$\n",
      "* 0.25 $Pa\\cdot s$ low viscocity motor oil (SAE 10) at room temperature\n",
      "* 19 $\\mu Pa\\cdot s$ air at room temp\n",
      "\n",
      "The viscocity of an ideal gas is independent of the pressure and increases with temperature. \n",
      "\n",
      "####Diffusion\n",
      "In a fluid, particles will flow to oppose any difference in concentration.\n",
      "$$J_x = -D\\frac{dn}{dx}$$\n",
      "This is Fick's Law and $D$ is the diffusion coefficient which depends on what molecule is diffusing and what it is diffusing through. "
     ]
    }
   ],
   "metadata": {}
  }
 ]
}